{
 "cells": [
  {
   "cell_type": "markdown",
   "metadata": {},
   "source": [
    "# Balanced Parentheses\n",
    "\n",
    "\n",
    "Parentheses are balanced, if all opening parentheses have their corresponding closing parentheses.\n",
    "\n",
    "Given an expression as input, we need to find out whether the parentheses are balanced or not.\n",
    "For example, \"(x+y)*(z-2*(6))\" is balanced, while \"7-(3(2*9))4) (1\" is not balanced.\n",
    "\n",
    "The problem can be solved using a stack.\n",
    "Push each opening parenthesis to the stack and pop the last inserted opening parenthesis whenever a closing parenthesis is encountered.\n",
    "If the closing bracket does not correspond to the opening bracket, then stop and say that the brackets are not balanced.\n",
    "Also, after checking all the parentheses, we need to check the stack to be empty -- if it's not empty, then the parentheses are not balanced.\n",
    "\n",
    "Implement the balanced() function to return True if the parentheses in the given expression are balanced, and False if not.\n",
    "\n",
    "Sample Input:\n",
    "(a( ) eee) )\n",
    "\n",
    "Sample Output:\n",
    "False\n",
    "You can use a simple list for a stack. Use list.insert(0, item) to push on the stack, and list.pop(0) to pop the top item. You can access the top element of the stack using list[0]."
   ]
  },
  {
   "cell_type": "code",
   "execution_count": null,
   "metadata": {},
   "outputs": [],
   "source": [
    "def balanced(expression):\n",
    "    #your code goes here\n",
    "    bracket=[]\n",
    "    for i in expression:\n",
    "        if i==\"(\":\n",
    "            bracket.insert(0,i)\n",
    "        if i ==\")\" and len(bracket)!=0:\n",
    "            bracket.pop(0)\n",
    "        elif i ==\")\" and len(bracket)==0:\n",
    "            return False\n",
    "    if len(bracket)==0:\n",
    "        return True\n",
    "    else:\n",
    "        return False\n"
   ]
  },
  {
   "cell_type": "code",
   "execution_count": null,
   "metadata": {},
   "outputs": [],
   "source": [
    "print(input())"
   ]
  },
  {
   "cell_type": "code",
   "execution_count": null,
   "metadata": {},
   "outputs": [],
   "source": []
  }
 ],
 "metadata": {
  "kernelspec": {
   "display_name": "Python 3",
   "language": "python",
   "name": "python3"
  },
  "language_info": {
   "codemirror_mode": {
    "name": "ipython",
    "version": 3
   },
   "file_extension": ".py",
   "mimetype": "text/x-python",
   "name": "python",
   "nbconvert_exporter": "python",
   "pygments_lexer": "ipython3",
   "version": "3.7.6"
  }
 },
 "nbformat": 4,
 "nbformat_minor": 4
}
