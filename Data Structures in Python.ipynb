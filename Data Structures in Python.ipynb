{
 "cells": [
  {
   "cell_type": "markdown",
   "metadata": {},
   "source": [
    "# Data Structures in python"
   ]
  },
  {
   "cell_type": "markdown",
   "metadata": {},
   "source": [
    "## Stacks\n",
    "stacks use lists for implementation\n",
    "it uses Last In First Out"
   ]
  },
  {
   "cell_type": "code",
   "execution_count": 69,
   "metadata": {},
   "outputs": [],
   "source": [
    "class Stack:\n",
    "    def __init__(self):\n",
    "        self.items=[]\n",
    "    def is_empty(self):\n",
    "        self.items=[]\n",
    "    def push(self,item):\n",
    "        self.items.insert(0,item)\n",
    "    def pop(self):\n",
    "        return self.items.pop(0)\n",
    "    def print_stack(self):\n",
    "        print (self.items)"
   ]
  },
  {
   "cell_type": "code",
   "execution_count": 70,
   "metadata": {},
   "outputs": [],
   "source": [
    "s=Stack()"
   ]
  },
  {
   "cell_type": "code",
   "execution_count": 71,
   "metadata": {},
   "outputs": [],
   "source": [
    "s.push(322)"
   ]
  },
  {
   "cell_type": "code",
   "execution_count": 72,
   "metadata": {},
   "outputs": [],
   "source": [
    "s.push(112)"
   ]
  },
  {
   "cell_type": "code",
   "execution_count": 73,
   "metadata": {},
   "outputs": [
    {
     "data": {
      "text/plain": [
       "112"
      ]
     },
     "execution_count": 73,
     "metadata": {},
     "output_type": "execute_result"
    }
   ],
   "source": [
    "s.pop()"
   ]
  },
  {
   "cell_type": "code",
   "execution_count": 74,
   "metadata": {},
   "outputs": [
    {
     "name": "stdout",
     "output_type": "stream",
     "text": [
      "[322]\n"
     ]
    }
   ],
   "source": [
    "s.print_stack()"
   ]
  },
  {
   "cell_type": "code",
   "execution_count": 75,
   "metadata": {},
   "outputs": [],
   "source": [
    "s.is_empty()"
   ]
  },
  {
   "cell_type": "markdown",
   "metadata": {},
   "source": [
    "## Queue\n",
    "Queues use lists for implementation\n",
    "it uses First In First Out"
   ]
  },
  {
   "cell_type": "code",
   "execution_count": 76,
   "metadata": {},
   "outputs": [],
   "source": [
    "class Queue:\n",
    "    def __init__(self):\n",
    "        self.items=[]\n",
    "    def is_empty(self):\n",
    "        self.items=[]\n",
    "    def enqueue(self,item): #add to queue\n",
    "        self.items.insert(0,item)\n",
    "    def dequeue(self): #remove from queue\n",
    "        return self.items.pop()\n",
    "    def print_queue(self):\n",
    "        print(self.items)"
   ]
  },
  {
   "cell_type": "code",
   "execution_count": 78,
   "metadata": {},
   "outputs": [],
   "source": [
    "q=Queue()"
   ]
  },
  {
   "cell_type": "code",
   "execution_count": 79,
   "metadata": {},
   "outputs": [],
   "source": [
    "q.enqueue(233)"
   ]
  },
  {
   "cell_type": "code",
   "execution_count": 80,
   "metadata": {},
   "outputs": [],
   "source": [
    "q.enqueue(123)"
   ]
  },
  {
   "cell_type": "code",
   "execution_count": 81,
   "metadata": {},
   "outputs": [
    {
     "data": {
      "text/plain": [
       "233"
      ]
     },
     "execution_count": 81,
     "metadata": {},
     "output_type": "execute_result"
    }
   ],
   "source": [
    "q.dequeue()"
   ]
  },
  {
   "cell_type": "code",
   "execution_count": 82,
   "metadata": {},
   "outputs": [
    {
     "name": "stdout",
     "output_type": "stream",
     "text": [
      "[123]\n"
     ]
    }
   ],
   "source": [
    "q.print_queue()"
   ]
  },
  {
   "cell_type": "markdown",
   "metadata": {},
   "source": [
    "## Linked List\n",
    "\n",
    "A `linked list` is a sequence of nodes where each node stores its own data and a link to the next node.\n",
    "One node links to another forming what can be thought of as a linked chain:contentImageThe first node is called the head, and it's used as the starting point for any iteration through the list. The last node must have its link pointing to `None` to determine the end of the list.\n",
    "\n",
    "Unlike stacks and queues, you can insert and remove nodes in any position of the linked list (similar to a standard list).\n",
    "\n",
    "### Applications\n",
    "\n",
    "\n",
    "Linked lists are useful when your data is linked. For example when you need undo/redo functionality, the nodes can represent the state with links to the previous and next states. Another example would be a playlist of music, where each clip is linked with the next one.\n",
    "Linked lists can also be used to create other data structures, such as stack, queues and graphs."
   ]
  },
  {
   "cell_type": "markdown",
   "metadata": {},
   "source": [
    "Each node will include data and the link to the next node.\n",
    "\n",
    "Let's start by creating the Node class:"
   ]
  },
  {
   "cell_type": "code",
   "execution_count": 33,
   "metadata": {},
   "outputs": [],
   "source": [
    "class Node:\n",
    "  def __init__(self, data, next):\n",
    "    self.data = data\n",
    "    self.next = next"
   ]
  },
  {
   "cell_type": "code",
   "execution_count": 40,
   "metadata": {},
   "outputs": [],
   "source": [
    "class LinkedList:\n",
    "    def __init__(self):\n",
    "        self.head=None\n",
    "    #for adding in the front, we just put the data at the beginning and\n",
    "    # put the self.head from the previously beginig node as the \n",
    "    #next of this new one\n",
    "    def add_at_front(self,data):\n",
    "        self.head=Node(data,self.head)\n",
    "    \n",
    "    def add_at_end(self,data):\n",
    "        #if the linked list is empty, we just put in data and set next to None\n",
    "        if not self.head:\n",
    "            self.head=Node(data,None)\n",
    "            return\n",
    "        #if linked list iis not empty, we set the first node as curr\n",
    "        curr=self.head\n",
    "        #In a loop,\n",
    "        #while we are not at the end of the nodes\n",
    "        #thus curr.nect is not None\n",
    "        #we pick up the next value of the current node\n",
    "        while curr.next:\n",
    "            #we set the next node as the present and repear\n",
    "            curr=curr.next\n",
    "        #at the last node, we input our data\n",
    "        curr.next=Node(data,None)\n",
    "    def get_last_node(self):\n",
    "        #we set n as present node\n",
    "        n=self.head\n",
    "        while(n.next!=None):\n",
    "            #we set the next node as the present and repear\n",
    "            n=n.next\n",
    "        #then return the last node\n",
    "        return n.data\n",
    "    def print_list(self):\n",
    "        n=self.head\n",
    "        while n!=None:\n",
    "            print(n.data,end=\" =>\")\n",
    "            n=n.next\n",
    "        print()"
   ]
  },
  {
   "cell_type": "code",
   "execution_count": 41,
   "metadata": {},
   "outputs": [],
   "source": [
    "l=LinkedList()"
   ]
  },
  {
   "cell_type": "code",
   "execution_count": 42,
   "metadata": {},
   "outputs": [],
   "source": [
    "l.add_at_front(23)"
   ]
  },
  {
   "cell_type": "code",
   "execution_count": 43,
   "metadata": {},
   "outputs": [],
   "source": [
    "l.add_at_front(28)"
   ]
  },
  {
   "cell_type": "code",
   "execution_count": 44,
   "metadata": {},
   "outputs": [],
   "source": [
    "l.add_at_end(0)"
   ]
  },
  {
   "cell_type": "code",
   "execution_count": 45,
   "metadata": {},
   "outputs": [
    {
     "data": {
      "text/plain": [
       "0"
      ]
     },
     "execution_count": 45,
     "metadata": {},
     "output_type": "execute_result"
    }
   ],
   "source": [
    "l.get_last_node()"
   ]
  },
  {
   "cell_type": "code",
   "execution_count": 46,
   "metadata": {},
   "outputs": [
    {
     "name": "stdout",
     "output_type": "stream",
     "text": [
      "28 =>23 =>0 =>\n"
     ]
    }
   ],
   "source": [
    "l.print_list()"
   ]
  },
  {
   "cell_type": "markdown",
   "metadata": {},
   "source": [
    "## Graph\n",
    "Graphs are used to represent many real-life applications like networks, transportation paths of a city, and social network connections.\n",
    "\n",
    "A graph is a set of connected nodes where each node is called a Vertex and the connection between two of them is called an Edge.\n",
    "\n",
    "This can represent, for example, connections on a social network, where each Vertex represents a person and the Edges represent connections."
   ]
  },
  {
   "cell_type": "code",
   "execution_count": null,
   "metadata": {},
   "outputs": [],
   "source": []
  },
  {
   "cell_type": "markdown",
   "metadata": {},
   "source": [
    "A graph can be represented using a square matrix, where each element represents the edges: 0 indicates no edge, while 1 indicates an edge. The rows and columns represent the vertices.\n",
    "For example:\n",
    "\n",
    "`0 1 1\n",
    "1 0 0\n",
    "1 0 0`\n",
    "\n",
    "The matrix above represents a graph with 3 vertices (that's why it's a 3x3 matrix).\n",
    "The 1s represent the edges. There are 2 edges: the 1st vertex is connected with the 2nd and 3rd.\n",
    "There are four 1s in the matrix, because if A is connected with B, then B is connected to A.\n",
    "This type of matrix is called an `adjacency matrix`, because it shows if the corresponding vertices are adjacent or not."
   ]
  },
  {
   "cell_type": "markdown",
   "metadata": {},
   "source": [
    "Adjacency matrix is represented by an n*n matrix where n is the number of vertices\n",
    "so eg(1,2)=1 means that there is a link from 1 to 2 in the graph\n",
    "(2,4)=means that there is a link from 2 to 4 in the graph\n",
    "\n",
    "so if `a[i][j]=1`, then i and j are `adjacent`\n",
    "\n",
    "if `a[i][j]=0`, then i and j are `not adjacent`"
   ]
  },
  {
   "cell_type": "markdown",
   "metadata": {},
   "source": [
    "the space complexity for adjacency matrix is `O(n^2)`\n",
    "in a `dense graph` it is better to use ajacenncy matrix"
   ]
  },
  {
   "cell_type": "markdown",
   "metadata": {},
   "source": [
    "Creating a graph whose edges are in both directions"
   ]
  },
  {
   "cell_type": "code",
   "execution_count": 24,
   "metadata": {},
   "outputs": [],
   "source": [
    "class Graph():\n",
    "    def __init__(self,size):\n",
    "        self.adj=[ [0] * size for i in range(size)] #this create the size*size matrix (like n*n) matrix\n",
    "        self.size=size\n",
    "    def add_edge(self,orig,dest): # orig is like vertex u are on and dest is what you are pointing to and vice versa sice it is in both direction\n",
    "        if orig>self.size or dest>self.size or orig<= 0 or dest<=0: #checking if input is out of specified range\n",
    "            print(\"Invalid Edge\")\n",
    "        else:\n",
    "            self.adj[orig-1][dest-1]=1 #using -1 cos we assume that the vetices will be counted from 1\n",
    "            self.adj[dest-1][orig-1]=1\n",
    "    def remove_edge(self,orig,dest): # orig is like vertex u are on and dest is what you are pointing to and vice versa sice it is in both direction\n",
    "        if orig>self.size or dest>self.size or orig<= 0 or dest<=0: #checking if input is out of specified range\n",
    "            print(\"Invalid Edge\")\n",
    "        else:\n",
    "            self.adj[orig-1][dest-1]=0 #using -1 cos we assume that the vetices will be counted from 1\n",
    "            self.adj[dest-1][orig-1]=0\n",
    "    def display(self):\n",
    "        for row in self.adj:\n",
    "          print() #end=\"\" is to continue writing in the same line by default python use end=\"\\n\"\n",
    "          for val in row:\n",
    "            print('{:2}'.format(val),end=\"\")"
   ]
  },
  {
   "cell_type": "code",
   "execution_count": 25,
   "metadata": {},
   "outputs": [],
   "source": [
    "g=Graph(5)"
   ]
  },
  {
   "cell_type": "code",
   "execution_count": 26,
   "metadata": {},
   "outputs": [
    {
     "name": "stdout",
     "output_type": "stream",
     "text": [
      "\n",
      " 0 0 0 0 0\n",
      " 0 0 0 0 0\n",
      " 0 0 0 0 0\n",
      " 0 0 0 0 0\n",
      " 0 0 0 0 0"
     ]
    }
   ],
   "source": [
    "g.display()"
   ]
  },
  {
   "cell_type": "code",
   "execution_count": 27,
   "metadata": {},
   "outputs": [],
   "source": [
    "g.add_edge(2,4)"
   ]
  },
  {
   "cell_type": "code",
   "execution_count": 28,
   "metadata": {},
   "outputs": [
    {
     "name": "stdout",
     "output_type": "stream",
     "text": [
      "\n",
      " 0 0 0 0 0\n",
      " 0 0 0 1 0\n",
      " 0 0 0 0 0\n",
      " 0 1 0 0 0\n",
      " 0 0 0 0 0"
     ]
    }
   ],
   "source": [
    "g.display()"
   ]
  },
  {
   "cell_type": "markdown",
   "metadata": {},
   "source": [
    "We store the matrix in a two-dimensional list, called adj.\n",
    "The __init__ method creates the adj matrix with the given size (number of vertices) and initializes all values to zeros.\n",
    "The add_edge() method is used to add an edge by setting the corresponding values to 1.\n",
    "Similarly, the remove_edge() method sets the values to 0.\n"
   ]
  },
  {
   "cell_type": "markdown",
   "metadata": {},
   "source": [
    "### Using Adjacency list\n",
    "In this we use linked list to represent the adjacency of vertices\n",
    "For each vertex, on linked list will be created. \n",
    "Each linked list will contain the nodes which are adjacent to it\n",
    "\n",
    "The space complxity of this method is `O(n+2e)` where e is the number of edges\n",
    "\n",
    "This method is best used fpr `sparse graphs` thus those which are not dense\n"
   ]
  },
  {
   "cell_type": "code",
   "execution_count": 3,
   "metadata": {},
   "outputs": [
    {
     "data": {
      "text/plain": [
       "[[0, 0, 0, 0, 0],\n",
       " [0, 0, 0, 0, 0],\n",
       " [0, 0, 0, 0, 0],\n",
       " [0, 0, 0, 0, 0],\n",
       " [0, 0, 0, 0, 0]]"
      ]
     },
     "execution_count": 3,
     "metadata": {},
     "output_type": "execute_result"
    }
   ],
   "source": [
    "size=5\n",
    "[ [0] * size for i in range(size)]"
   ]
  },
  {
   "cell_type": "code",
   "execution_count": null,
   "metadata": {},
   "outputs": [],
   "source": []
  },
  {
   "cell_type": "code",
   "execution_count": null,
   "metadata": {},
   "outputs": [],
   "source": []
  }
 ],
 "metadata": {
  "kernelspec": {
   "display_name": "Python 3",
   "language": "python",
   "name": "python3"
  },
  "language_info": {
   "codemirror_mode": {
    "name": "ipython",
    "version": 3
   },
   "file_extension": ".py",
   "mimetype": "text/x-python",
   "name": "python",
   "nbconvert_exporter": "python",
   "pygments_lexer": "ipython3",
   "version": "3.7.6"
  }
 },
 "nbformat": 4,
 "nbformat_minor": 4
}
